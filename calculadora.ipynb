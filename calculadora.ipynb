{
 "cells": [
  {
   "cell_type": "code",
   "execution_count": 2,
   "metadata": {},
   "outputs": [
    {
     "name": "stdout",
     "output_type": "stream",
     "text": [
      "digite seu nome\n",
      "então seu nome é,  s\n",
      "e sua idade é,  4\n",
      "Bem Vindo s\n",
      "pressione s ou n, se essa informação estiver correta.\n",
      "digite seu nome\n",
      "então seu nome é,  s\n",
      "e sua idade é,  34\n",
      "Bem Vindo s\n",
      "pressione s ou n, se essa informação estiver correta.\n",
      "digite os numero que você quer calcular, pressione ENTER entre um e outro.\n"
     ]
    },
    {
     "ename": "ValueError",
     "evalue": "invalid literal for int() with base 10: '          '",
     "output_type": "error",
     "traceback": [
      "\u001b[1;31m---------------------------------------------------------------------------\u001b[0m",
      "\u001b[1;31mValueError\u001b[0m                                Traceback (most recent call last)",
      "Cell \u001b[1;32mIn [2], line 63\u001b[0m\n\u001b[0;32m     60\u001b[0m     \u001b[39mif\u001b[39;00m(resposta \u001b[39m==\u001b[39m \u001b[39m'\u001b[39m\u001b[39ms\u001b[39m\u001b[39m'\u001b[39m):\n\u001b[0;32m     61\u001b[0m         InitCalculadora()\n\u001b[1;32m---> 63\u001b[0m fist()\n",
      "Cell \u001b[1;32mIn [2], line 26\u001b[0m, in \u001b[0;36mfist\u001b[1;34m()\u001b[0m\n\u001b[0;32m     24\u001b[0m \u001b[39mdef\u001b[39;00m \u001b[39mfist\u001b[39m():\n\u001b[0;32m     25\u001b[0m     inicio()\n\u001b[1;32m---> 26\u001b[0m     checkout()\n",
      "Cell \u001b[1;32mIn [2], line 58\u001b[0m, in \u001b[0;36mcheckout\u001b[1;34m()\u001b[0m\n\u001b[0;32m     55\u001b[0m resposta \u001b[39m=\u001b[39m \u001b[39minput\u001b[39m()\n\u001b[0;32m     57\u001b[0m \u001b[39mif\u001b[39;00m(resposta \u001b[39m==\u001b[39m \u001b[39m'\u001b[39m\u001b[39mn\u001b[39m\u001b[39m'\u001b[39m):\n\u001b[1;32m---> 58\u001b[0m     fist()\n\u001b[0;32m     60\u001b[0m \u001b[39mif\u001b[39;00m(resposta \u001b[39m==\u001b[39m \u001b[39m'\u001b[39m\u001b[39ms\u001b[39m\u001b[39m'\u001b[39m):\n\u001b[0;32m     61\u001b[0m     InitCalculadora()\n",
      "Cell \u001b[1;32mIn [2], line 26\u001b[0m, in \u001b[0;36mfist\u001b[1;34m()\u001b[0m\n\u001b[0;32m     24\u001b[0m \u001b[39mdef\u001b[39;00m \u001b[39mfist\u001b[39m():\n\u001b[0;32m     25\u001b[0m     inicio()\n\u001b[1;32m---> 26\u001b[0m     checkout()\n",
      "Cell \u001b[1;32mIn [2], line 61\u001b[0m, in \u001b[0;36mcheckout\u001b[1;34m()\u001b[0m\n\u001b[0;32m     58\u001b[0m     fist()\n\u001b[0;32m     60\u001b[0m \u001b[39mif\u001b[39;00m(resposta \u001b[39m==\u001b[39m \u001b[39m'\u001b[39m\u001b[39ms\u001b[39m\u001b[39m'\u001b[39m):\n\u001b[1;32m---> 61\u001b[0m     InitCalculadora()\n",
      "Cell \u001b[1;32mIn [2], line 30\u001b[0m, in \u001b[0;36mInitCalculadora\u001b[1;34m()\u001b[0m\n\u001b[0;32m     28\u001b[0m \u001b[39mdef\u001b[39;00m \u001b[39mInitCalculadora\u001b[39m():\n\u001b[0;32m     29\u001b[0m     \u001b[39mprint\u001b[39m(\u001b[39m'\u001b[39m\u001b[39mdigite os numero que você quer calcular, pressione ENTER entre um e outro.\u001b[39m\u001b[39m'\u001b[39m)\n\u001b[1;32m---> 30\u001b[0m     num1 \u001b[39m=\u001b[39m \u001b[39mint\u001b[39;49m(\u001b[39minput\u001b[39;49m())\n\u001b[0;32m     31\u001b[0m     num2 \u001b[39m=\u001b[39m \u001b[39mint\u001b[39m(\u001b[39minput\u001b[39m())\n\u001b[0;32m     33\u001b[0m     \u001b[39mprint\u001b[39m(\u001b[39m'\u001b[39m\u001b[39mdigite a operação matemarica (/, *, +, -)\u001b[39m\u001b[39m'\u001b[39m)\n",
      "\u001b[1;31mValueError\u001b[0m: invalid literal for int() with base 10: '          '"
     ]
    }
   ],
   "source": [
    "class user:\n",
    "    def __init__(user, name, age):\n",
    "            user.nome = name\n",
    "            user.idade = age\n",
    "\n",
    "class numeros:\n",
    "    def __init__ (num, fist, seg, operação):\n",
    "        num.num1 = fist\n",
    "        num.num2 = seg\n",
    "        num.operação = operação\n",
    "\n",
    "def inicio():\n",
    "\n",
    "    print('digite seu nome')\n",
    "    nome = input()\n",
    "\n",
    "    print('digite sua idade')\n",
    "    idade = int(input())\n",
    "\n",
    "    dados = user(nome, idade)\n",
    "\n",
    "    print('então seu nome é, ', dados.nome)\n",
    "    print('e sua idade é, ', dados.idade)\n",
    "    print('Bem Vindo a calculadora,', dados.nome)\n",
    "\n",
    "def fist():\n",
    "    inicio()\n",
    "    checkout()\n",
    "\n",
    "def InitCalculadora():\n",
    "    print('digite os numero que você quer calcular, pressione ENTER entre um e outro.')\n",
    "    num1 = int(input())\n",
    "    num2 = int(input())\n",
    "\n",
    "    print('digite a operação matemarica (/, *, +, -)')\n",
    "    operação = input()\n",
    "\n",
    "    dig = numeros(num1,num2,operação)\n",
    "\n",
    "\n",
    "    if(dig.operação == '*'):\n",
    "        respostas = dig.num1*dig.num2\n",
    "\n",
    "    if(dig.operação == '/'):\n",
    "        respostas = dig.num1 / dig.num2\n",
    "\n",
    "    if(dig.operação == '+'):\n",
    "        respostas = dig.num1 + dig.num2\n",
    "\n",
    "    if(dig.operação == '-'):\n",
    "        respostas = dig.num1 - dig.num2\n",
    "\n",
    "    print('o resultado é ',respostas )\n",
    "\n",
    "def checkout():\n",
    "    print('pressione s ou n, se essa informação estiver correta.')\n",
    "    resposta = input()\n",
    "\n",
    "    if(resposta == 'n'):\n",
    "        fist()\n",
    "\n",
    "    if(resposta == 's'):\n",
    "        InitCalculadora()\n",
    "\n",
    "fist()"
   ]
  }
 ],
 "metadata": {
  "kernelspec": {
   "display_name": "Python 3.9.2 64-bit",
   "language": "python",
   "name": "python3"
  },
  "language_info": {
   "codemirror_mode": {
    "name": "ipython",
    "version": 3
   },
   "file_extension": ".py",
   "mimetype": "text/x-python",
   "name": "python",
   "nbconvert_exporter": "python",
   "pygments_lexer": "ipython3",
   "version": "3.9.2"
  },
  "orig_nbformat": 4,
  "vscode": {
   "interpreter": {
    "hash": "9e3f6e6d57978d0ed61185cd5cab8254c7a9781b48d30315c04e7cb1703334a1"
   }
  }
 },
 "nbformat": 4,
 "nbformat_minor": 2
}
