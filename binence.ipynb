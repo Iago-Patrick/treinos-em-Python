{
 "cells": [
  {
   "cell_type": "code",
   "execution_count": 1,
   "id": "56778a15",
   "metadata": {},
   "outputs": [
    {
     "name": "stdout",
     "output_type": "stream",
     "text": [
      "Collecting python-binance\n",
      "  Downloading python_binance-1.0.16-py2.py3-none-any.whl (65 kB)\n",
      "     -------------------------------------- 65.2/65.2 kB 584.4 kB/s eta 0:00:00\n",
      "Requirement already satisfied: ujson in c:\\users\\nobbito\\anaconda3\\lib\\site-packages (from python-binance) (5.4.0)\n",
      "Requirement already satisfied: requests in c:\\users\\nobbito\\anaconda3\\lib\\site-packages (from python-binance) (2.28.1)\n",
      "Collecting dateparser\n",
      "  Downloading dateparser-1.1.6-py2.py3-none-any.whl (293 kB)\n",
      "     -------------------------------------- 293.3/293.3 kB 1.4 MB/s eta 0:00:00\n",
      "Requirement already satisfied: six in c:\\users\\nobbito\\appdata\\roaming\\python\\python39\\site-packages (from python-binance) (1.16.0)\n",
      "Collecting aiohttp\n",
      "  Downloading aiohttp-3.8.3-cp39-cp39-win_amd64.whl (323 kB)\n",
      "     -------------------------------------- 323.5/323.5 kB 2.2 MB/s eta 0:00:00\n",
      "Collecting websockets\n",
      "  Downloading websockets-10.4-cp39-cp39-win_amd64.whl (101 kB)\n",
      "     -------------------------------------- 101.4/101.4 kB 1.5 MB/s eta 0:00:00\n",
      "Collecting frozenlist>=1.1.1\n",
      "  Downloading frozenlist-1.3.3-cp39-cp39-win_amd64.whl (34 kB)\n",
      "Collecting multidict<7.0,>=4.5\n",
      "  Downloading multidict-6.0.4-cp39-cp39-win_amd64.whl (28 kB)\n",
      "Collecting async-timeout<5.0,>=4.0.0a3\n",
      "  Downloading async_timeout-4.0.2-py3-none-any.whl (5.8 kB)\n",
      "Collecting yarl<2.0,>=1.0\n",
      "  Downloading yarl-1.8.2-cp39-cp39-win_amd64.whl (56 kB)\n",
      "     -------------------------------------- 56.8/56.8 kB 750.8 kB/s eta 0:00:00\n",
      "Requirement already satisfied: charset-normalizer<3.0,>=2.0 in c:\\users\\nobbito\\anaconda3\\lib\\site-packages (from aiohttp->python-binance) (2.0.4)\n",
      "Requirement already satisfied: attrs>=17.3.0 in c:\\users\\nobbito\\anaconda3\\lib\\site-packages (from aiohttp->python-binance) (21.4.0)\n",
      "Collecting aiosignal>=1.1.2\n",
      "  Downloading aiosignal-1.3.1-py3-none-any.whl (7.6 kB)\n",
      "Requirement already satisfied: regex!=2019.02.19,!=2021.8.27 in c:\\users\\nobbito\\anaconda3\\lib\\site-packages (from dateparser->python-binance) (2022.7.9)\n",
      "Requirement already satisfied: pytz in c:\\users\\nobbito\\anaconda3\\lib\\site-packages (from dateparser->python-binance) (2022.1)\n",
      "Collecting tzlocal\n",
      "  Downloading tzlocal-4.2-py3-none-any.whl (19 kB)\n",
      "Requirement already satisfied: python-dateutil in c:\\users\\nobbito\\appdata\\roaming\\python\\python39\\site-packages (from dateparser->python-binance) (2.8.2)\n",
      "Requirement already satisfied: certifi>=2017.4.17 in c:\\users\\nobbito\\anaconda3\\lib\\site-packages (from requests->python-binance) (2022.9.14)\n",
      "Requirement already satisfied: urllib3<1.27,>=1.21.1 in c:\\users\\nobbito\\anaconda3\\lib\\site-packages (from requests->python-binance) (1.26.11)\n",
      "Requirement already satisfied: idna<4,>=2.5 in c:\\users\\nobbito\\anaconda3\\lib\\site-packages (from requests->python-binance) (3.3)\n",
      "Collecting pytz-deprecation-shim\n",
      "  Downloading pytz_deprecation_shim-0.1.0.post0-py2.py3-none-any.whl (15 kB)\n",
      "Collecting tzdata\n",
      "  Downloading tzdata-2022.7-py2.py3-none-any.whl (340 kB)\n",
      "     -------------------------------------- 340.1/340.1 kB 2.6 MB/s eta 0:00:00\n",
      "Installing collected packages: websockets, tzdata, multidict, frozenlist, async-timeout, yarl, pytz-deprecation-shim, aiosignal, tzlocal, aiohttp, dateparser, python-binance\n",
      "Successfully installed aiohttp-3.8.3 aiosignal-1.3.1 async-timeout-4.0.2 dateparser-1.1.6 frozenlist-1.3.3 multidict-6.0.4 python-binance-1.0.16 pytz-deprecation-shim-0.1.0.post0 tzdata-2022.7 tzlocal-4.2 websockets-10.4 yarl-1.8.2\n"
     ]
    }
   ],
   "source": [
    "!pip install python-binance"
   ]
  },
  {
   "cell_type": "code",
   "execution_count": 2,
   "id": "4a72aa53",
   "metadata": {},
   "outputs": [],
   "source": [
    "import pandas as pd\n",
    "import binance as bn"
   ]
  },
  {
   "cell_type": "code",
   "execution_count": 3,
   "id": "12cbcdf1",
   "metadata": {},
   "outputs": [],
   "source": [
    "cliente = bn.Client('04y0em1QKhZTdwfQv4ojSfDlaYZCM2YU0i7jI2VOm6Wdep4DgpdouGmz1YWVgRxk', 'zdunZYMWu9fCvIlq5B8a50bFQPiGFTfcLhO8Q40ApKyTT2cdpDPhLYRBlFZMsSlQ')\n"
   ]
  },
  {
   "cell_type": "code",
   "execution_count": null,
   "id": "ebfae3ab",
   "metadata": {},
   "outputs": [],
   "source": []
  }
 ],
 "metadata": {
  "kernelspec": {
   "display_name": "Python 3 (ipykernel)",
   "language": "python",
   "name": "python3"
  },
  "language_info": {
   "codemirror_mode": {
    "name": "ipython",
    "version": 3
   },
   "file_extension": ".py",
   "mimetype": "text/x-python",
   "name": "python",
   "nbconvert_exporter": "python",
   "pygments_lexer": "ipython3",
   "version": "3.9.13"
  }
 },
 "nbformat": 4,
 "nbformat_minor": 5
}
